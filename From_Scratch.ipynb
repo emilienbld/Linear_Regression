{
 "cells": [
  {
   "cell_type": "markdown",
   "metadata": {},
   "source": [
    "#  From Scratch"
   ]
  },
  {
   "cell_type": "markdown",
   "metadata": {},
   "source": [
    "## 1. Chargement des Données"
   ]
  },
  {
   "cell_type": "code",
   "execution_count": 1,
   "metadata": {},
   "outputs": [
    {
     "name": "stdout",
     "output_type": "stream",
     "text": [
      "date                   object\n",
      "surface                 int64\n",
      "nombre_pieces           int64\n",
      "nombre_salles_bain      int64\n",
      "nombre_etages           int64\n",
      "age_maison              int64\n",
      "type_chauffage         object\n",
      "quartier               object\n",
      "proximite_ecole       float64\n",
      "prix                    int64\n",
      "dtype: object\n",
      "   surface  nombre_pieces  nombre_salles_bain  nombre_etages  age_maison  \\\n",
      "0      152              7                   1              1          21   \n",
      "1      229              2                   1              2          27   \n",
      "2      142              2                   3              1          19   \n",
      "3       64              1                   3              2          32   \n",
      "4      156              8                   2              1           9   \n",
      "\n",
      "   proximite_ecole  prix  date_2020-01-02  date_2020-01-04  date_2020-01-05  \\\n",
      "0             0.56   781            False            False            False   \n",
      "1             2.26   935            False            False            False   \n",
      "2             1.06   477            False            False            False   \n",
      "3             1.01   310            False            False            False   \n",
      "4             0.56   525            False            False            False   \n",
      "\n",
      "   ...  date_2022-12-22  date_2022-12-23  date_2022-12-26  date_2022-12-29  \\\n",
      "0  ...            False            False            False            False   \n",
      "1  ...            False            False            False            False   \n",
      "2  ...            False            False            False            False   \n",
      "3  ...            False            False            False            False   \n",
      "4  ...            False            False            False            False   \n",
      "\n",
      "   type_chauffage_Gaz  type_chauffage_Pompe à chaleur  \\\n",
      "0               False                           False   \n",
      "1               False                           False   \n",
      "2                True                           False   \n",
      "3                True                           False   \n",
      "4               False                            True   \n",
      "\n",
      "   type_chauffage_Électrique  quartier_Industriel  quartier_Périphérique  \\\n",
      "0                      False                False                  False   \n",
      "1                      False                False                  False   \n",
      "2                      False                False                   True   \n",
      "3                      False                False                  False   \n",
      "4                      False                 True                  False   \n",
      "\n",
      "   quartier_Résidentiel  \n",
      "0                  True  \n",
      "1                  True  \n",
      "2                 False  \n",
      "3                 False  \n",
      "4                 False  \n",
      "\n",
      "[5 rows x 417 columns]\n"
     ]
    }
   ],
   "source": [
    "# Importer les bibliothèques nécessaires\n",
    "import pandas as pd\n",
    "import numpy as np\n",
    "\n",
    "# Charger les données du fichier CSV\n",
    "#data = pd.read_csv('./data/prix_maisons.csv', na_values=['', ' ', 'NaN', 'N/A', '-'])\n",
    "#data.head()\n",
    "\n",
    "\n",
    "# Charger les données du fichier CSV\n",
    "data = pd.read_csv('./data/prix_maisons.csv', na_values=['', ' ', 'NaN', 'N/A', '-'])\n",
    "\n",
    "# Vérifier la présence de colonnes non numériques\n",
    "print(data.dtypes)\n",
    "\n",
    "# Encodage des variables catégorielles si nécessaire (supposons qu'il y ait des variables catégorielles)\n",
    "data_encoded = pd.get_dummies(data, drop_first=True)\n",
    "\n",
    "# Vérification du nouvel ensemble de données encodé\n",
    "print(data_encoded.head())\n"
   ]
  },
  {
   "cell_type": "markdown",
   "metadata": {},
   "source": [
    "## 2. Explication du Pseudo-Code en Markdown\n",
    "\n",
    "### Pseudo-Code de l'Algorithme de Régression Linéaire\n",
    "\n",
    "1. **Initialisation des paramètres** : Définir un vecteur de coefficients `W` et un biais `b`, initialisés à zéro.\n",
    "2. **Boucle d'entraînement** :\n",
    "    - Pour chaque itération :\n",
    "        - **Prédiction** : Calculer les prédictions `y_pred` en utilisant la formule de la régression linéaire : `y_pred = W * X + b`\n",
    "        - **Calcul de l'erreur** : Mesurer l'erreur entre les prédictions `y_pred` et les valeurs réelles `y`.\n",
    "        - **Calcul du gradient** : Calculer les gradients de l'erreur par rapport aux coefficients `W` et au biais `b`.\n",
    "        - **Mise à jour des paramètres** : Ajuster les paramètres `W` et `b` dans la direction opposée au gradient pour minimiser l'erreur.\n",
    "3. **Critère d'arrêt** : Répéter jusqu'à convergence ou jusqu'à atteindre un nombre d'itérations maximal.\n"
   ]
  },
  {
   "cell_type": "markdown",
   "metadata": {},
   "source": [
    "## 4. Implémentation de la Régression Linéaire \"from scratch\""
   ]
  },
  {
   "cell_type": "code",
   "execution_count": 2,
   "metadata": {},
   "outputs": [],
   "source": [
    "class LinearRegressionScratch:\n",
    "    def __init__(self, learning_rate=0.01, n_iterations=1000):\n",
    "        self.learning_rate = learning_rate\n",
    "        self.n_iterations = n_iterations\n",
    "        self.W = None\n",
    "        self.b = None\n",
    "    \n",
    "    def fit(self, X, y):\n",
    "        # Initialisation des paramètres\n",
    "        n_samples, n_features = X.shape\n",
    "        self.W = np.zeros(n_features)\n",
    "        self.b = 0\n",
    "        \n",
    "        # Descente de gradient\n",
    "        for _ in range(self.n_iterations):\n",
    "            # Calculer la prédiction\n",
    "            y_pred = np.dot(X, self.W) + self.b\n",
    "            \n",
    "            # Calculer les gradients\n",
    "            dw = (1 / n_samples) * np.dot(X.T, (y_pred - y))\n",
    "            db = (1 / n_samples) * np.sum(y_pred - y)\n",
    "            \n",
    "            # Mettre à jour les paramètres\n",
    "            self.W -= self.learning_rate * dw\n",
    "            self.b -= self.learning_rate * db\n",
    "    \n",
    "    def predict(self, X):\n",
    "        return np.dot(X, self.W) + self.b"
   ]
  },
  {
   "cell_type": "markdown",
   "metadata": {},
   "source": [
    "### Explication :\n",
    "\n",
    "- `fit` : Cette méthode entraîne le modèle en ajustant les paramètres W (poids) et b (biais) via la descente de gradient.\n",
    "- `predict` : Utilise les paramètres appris pour prédire les valeurs de sortie sur de nouvelles données."
   ]
  },
  {
   "cell_type": "markdown",
   "metadata": {},
   "source": [
    "## 5. Entraînement et Évaluation du Modèle"
   ]
  },
  {
   "cell_type": "code",
   "execution_count": null,
   "metadata": {},
   "outputs": [],
   "source": [
    "from sklearn.model_selection import train_test_split\n",
    "from sklearn.metrics import mean_absolute_error, r2_score\n",
    "\n",
    "# Préparation des données\n",
    "X = data_encoded.drop('prix', axis=1).values  # Convertir en matrice numpy\n",
    "y = data_encoded['prix'].values\n",
    "\n",
    "# Diviser les données\n",
    "X_train, X_test, y_train, y_test = train_test_split(X, y, test_size=0.2, random_state=42)\n",
    "\n",
    "# Créer et entraîner le modèle\n",
    "model_scratch = LinearRegressionScratch(learning_rate=0.01, n_iterations=1000)\n",
    "model_scratch.fit(X_train, y_train)\n",
    "\n",
    "# Prédire et évaluer\n",
    "y_pred_train = model_scratch.predict(X_train)\n",
    "y_pred_test = model_scratch.predict(X_test)\n",
    "\n",
    "# Calcul des métriques\n",
    "train_mae = mean_absolute_error(y_train, y_pred_train)\n",
    "test_mae = mean_absolute_error(y_test, y_pred_test)\n",
    "train_r2 = r2_score(y_train, y_pred_train)\n",
    "test_r2 = r2_score(y_test, y_pred_test)\n",
    "\n",
    "print(f\"Erreur absolue moyenne sur l'entraînement : {train_mae:.2f}\")\n",
    "print(f\"Erreur absolue moyenne sur le test : {test_mae:.2f}\")\n",
    "print(f\"R² sur l'entraînement : {train_r2:.2f}\")\n",
    "print(f\"R² sur le test : {test_r2:.2f}\")"
   ]
  }
 ],
 "metadata": {
  "kernelspec": {
   "display_name": "Python 3",
   "language": "python",
   "name": "python3"
  },
  "language_info": {
   "codemirror_mode": {
    "name": "ipython",
    "version": 3
   },
   "file_extension": ".py",
   "mimetype": "text/x-python",
   "name": "python",
   "nbconvert_exporter": "python",
   "pygments_lexer": "ipython3",
   "version": "3.11.3"
  }
 },
 "nbformat": 4,
 "nbformat_minor": 2
}
